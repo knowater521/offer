{
 "cells": [
  {
   "cell_type": "markdown",
   "metadata": {},
   "source": [
    "# 反向打印链表"
   ]
  },
  {
   "cell_type": "markdown",
   "metadata": {},
   "source": [
    "输入一个链表，从尾到头打印链表每个节点的值。"
   ]
  },
  {
   "cell_type": "code",
   "execution_count": 1,
   "metadata": {},
   "outputs": [],
   "source": [
    "class ListNode:\n",
    "    def __init__(self, x=None):\n",
    "        self.val = x\n",
    "        self.next = None"
   ]
  },
  {
   "cell_type": "code",
   "execution_count": 2,
   "metadata": {},
   "outputs": [],
   "source": [
    "class Solution:\n",
    "    def printListFromTailToHead(self, listNode):\n",
    "        if listNode.val == None:\n",
    "            return\n",
    "        l = []\n",
    "        head = listNode\n",
    "        while head:\n",
    "            l.insert(0, head.val)\n",
    "            head = head.next\n",
    "        return l"
   ]
  },
  {
   "cell_type": "code",
   "execution_count": 3,
   "metadata": {},
   "outputs": [],
   "source": [
    "node1 = ListNode(10)\n",
    "node2 = ListNode(11)\n",
    "node3 = ListNode(13)\n",
    "node1.next = node2\n",
    "node2.next = node3\n",
    "\n",
    "singleNode = ListNode(12)\n",
    "\n",
    "test = ListNode()"
   ]
  },
  {
   "cell_type": "code",
   "execution_count": 5,
   "metadata": {},
   "outputs": [
    {
     "name": "stdout",
     "output_type": "stream",
     "text": [
      "[13, 11, 10]\n",
      "None\n",
      "[12]\n"
     ]
    }
   ],
   "source": [
    "S = Solution()\n",
    "print(S.printListFromTailToHead(node1))\n",
    "print(S.printListFromTailToHead(test))\n",
    "print(S.printListFromTailToHead(singleNode))"
   ]
  },
  {
   "cell_type": "code",
   "execution_count": null,
   "metadata": {},
   "outputs": [],
   "source": []
  }
 ],
 "metadata": {
  "kernelspec": {
   "display_name": "Python 3",
   "language": "python",
   "name": "python3"
  },
  "language_info": {
   "codemirror_mode": {
    "name": "ipython",
    "version": 3
   },
   "file_extension": ".py",
   "mimetype": "text/x-python",
   "name": "python",
   "nbconvert_exporter": "python",
   "pygments_lexer": "ipython3",
   "version": "3.6.5"
  }
 },
 "nbformat": 4,
 "nbformat_minor": 2
}
