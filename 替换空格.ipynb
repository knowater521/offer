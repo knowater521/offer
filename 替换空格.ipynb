{
 "cells": [
  {
   "cell_type": "markdown",
   "metadata": {},
   "source": [
    "# 替换空格"
   ]
  },
  {
   "cell_type": "markdown",
   "metadata": {},
   "source": [
    "请实现一个函数，将一个字符串中的空格替换成“%20”。\n",
    "<br/>\n",
    "例如，当字符串为We Are Happy.则经过替换之后的字符串为We%20Are%20Happy。"
   ]
  },
  {
   "cell_type": "code",
   "execution_count": 1,
   "metadata": {},
   "outputs": [],
   "source": [
    "# -*- coding:utf-8 -*-\n",
    "class Solution:\n",
    "    # s 源字符串\n",
    "    \n",
    "    # 使用append一次遍历即可替换\n",
    "    # 由于list的append是O(1)的时间复杂度，除了扩容所导致的时间损耗，该算法复杂度为O(n)\n",
    "    def replaceSpaceByAppend(self, s):\n",
    "        \n",
    "        string = list(string)\n",
    "        stringReplace = []\n",
    "        \n",
    "        for item in string:\n",
    "            if item == ' ':\n",
    "                stringReplace.append('%')\n",
    "                stringReplace.append('2')\n",
    "                stringReplace.append('0')\n",
    "            else:\n",
    "                stringReplace.append(item)\n",
    "                \n",
    "        return \"\".join(stringReplace)\n",
    "    \n",
    "    \n",
    "    # 创建新的字符串进行替换\n",
    "    def replaceSpace1(self, s):\n",
    "        temp_str = ''\n",
    "        if type(s) != str:\n",
    "            return\n",
    "        for c in s:\n",
    "            if c == ' ':\n",
    "                temp_str += '%20'\n",
    "            else:\n",
    "                temp_str += c\n",
    "        return temp_str\n",
    "    \n",
    "    # 简单代码替换\n",
    "    # 在Python中str类型是不可变的类型, 使用replace语句会生成一个新的str, 原始的s还是带空格的str变量\n",
    "    def replaceSpace2(self, s):\n",
    "        if type(s) != str:\n",
    "            return\n",
    "        return s.replace(' ', '%20')\n",
    "    \n",
    "    \n",
    "    # 书中给的思路\n",
    "    # 判断输入类型的时候，isinstance必须首先判断，因为如果输入为integer的话，没有len，就会直接报错\n",
    "    def replaceSpace3(self, s):\n",
    "        if not isinstance(s,str) or len(s) <= 0 or s == None:\n",
    "            return \"\"\n",
    "        spaceNum = 0\n",
    "        for i in s:\n",
    "            if i == \" \":\n",
    "                spaceNum += 1\n",
    "\n",
    "        newStrLen = len(s) + spaceNum * 2\n",
    "        newStr = newStrLen * [None]\n",
    "        indexOfOriginal, indexOfNew = len(s) - 1, newStrLen - 1\n",
    "        while indexOfNew >= 0 and indexOfNew >= indexOfOriginal:\n",
    "            if s[indexOfOriginal] == ' ':\n",
    "                newStr[indexOfNew-2:indexOfNew+1] = ['%', '2', '0']\n",
    "                indexOfNew -= 3\n",
    "                indexOfOriginal -= 1\n",
    "            else:\n",
    "                newStr[indexOfNew] = s[indexOfOriginal]\n",
    "                indexOfNew -= 1\n",
    "                indexOfOriginal -= 1\n",
    "        return \"\".join(newStr)\n",
    "    "
   ]
  },
  {
   "cell_type": "code",
   "execution_count": 2,
   "metadata": {},
   "outputs": [
    {
     "name": "stdout",
     "output_type": "stream",
     "text": [
      "we%20are%20happy\n",
      "we%20are%20happy\n",
      "we%20are%20happy\n"
     ]
    }
   ],
   "source": [
    "s = 'we are happy'\n",
    "test = Solution()\n",
    "print(test.replaceSpace1(s))\n",
    "print(test.replaceSpace2(s))\n",
    "print(test.replaceSpace3(s))"
   ]
  },
  {
   "cell_type": "code",
   "execution_count": null,
   "metadata": {},
   "outputs": [],
   "source": []
  }
 ],
 "metadata": {
  "kernelspec": {
   "display_name": "Python 3",
   "language": "python",
   "name": "python3"
  },
  "language_info": {
   "codemirror_mode": {
    "name": "ipython",
    "version": 3
   },
   "file_extension": ".py",
   "mimetype": "text/x-python",
   "name": "python",
   "nbconvert_exporter": "python",
   "pygments_lexer": "ipython3",
   "version": "3.6.5"
  }
 },
 "nbformat": 4,
 "nbformat_minor": 2
}
