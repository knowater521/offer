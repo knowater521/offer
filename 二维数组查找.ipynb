{
 "cells": [
  {
   "cell_type": "markdown",
   "metadata": {},
   "source": [
    "# 二维数组查找"
   ]
  },
  {
   "cell_type": "markdown",
   "metadata": {},
   "source": [
    "在一个二维数组中，每一行都按照从左到右递增的顺序排序\n",
    "<br/>\n",
    "每一列都按照从上到下递增的顺序排序\n",
    "<br/>\n",
    "请完成一个函数，输入这样的一个二维数组和一个整数，判断数组中是否含有该整数"
   ]
  },
  {
   "cell_type": "markdown",
   "metadata": {},
   "source": [
    "查找方式从右上角开始查找\n",
    "<br/>\n",
    "如果当前元素大于target, 左移一位继续查找\n",
    "<br/>\n",
    "如果当前元素小于target, 下移一位继续查找\n",
    "<br/>\n",
    "进行了简单的修改, 可以判定输入类型为字符的情况\n",
    "<br/>\n",
    "如果出现了array中既有字符串,又有数字,可能需要用到ord()函数"
   ]
  },
  {
   "cell_type": "code",
   "execution_count": 10,
   "metadata": {},
   "outputs": [],
   "source": [
    "class Solution:\n",
    "    # array 二维列表\n",
    "    def Find(self, array, target):\n",
    "        # 判断数组是否为空\n",
    "        if array == []:\n",
    "            return False\n",
    "\n",
    "        rawnum = len(array)\n",
    "        colnum = len(array[0])\n",
    "\n",
    "        # 判断非法输入\n",
    "        if type(target) == float and type(array[0][0]) == int:\n",
    "            if int(target) == target:\n",
    "                return False\n",
    "            target = int(target)\n",
    "        elif type(target) == int and type(array[0][0]) == float:\n",
    "            target = float(int)\n",
    "        elif type(target) != type(array[0][0]):     \n",
    "            # 浮点数的相等判断问题需要特别注意, 一般都是判断两个数的差值是否小于一个特别小的数\n",
    "            return False\n",
    "\n",
    "        i = colnum - 1\n",
    "        j = 0\n",
    "        while i >= 0 and j < rawnum:\n",
    "            if array[j][i] < target:\n",
    "                j += 1\n",
    "            elif array[j][i] > target:\n",
    "                i -= 1\n",
    "            else:\n",
    "                return True\n",
    "        return False\n",
    "    # 扩展, 输出数组中target的个数\n",
    "    def searchMatrix(self, matrix, target):\n",
    "        if matrix == None or len(matrix) == 0:\n",
    "            return 0\n",
    "        rows = len(matrix)\n",
    "        cols = len(matrix[0])\n",
    "        row, col = 0, cols - 1\n",
    "        count = 0\n",
    "        while row <= rows - 1 and col >= 0:\n",
    "            if matrix[row][col] > target:\n",
    "                col -= 1\n",
    "            elif matrix[row][col] < target:\n",
    "                row += 1\n",
    "            else:\n",
    "                count += 1\n",
    "                col -= 1\n",
    "        return count"
   ]
  },
  {
   "cell_type": "code",
   "execution_count": 14,
   "metadata": {},
   "outputs": [],
   "source": [
    "array = [[1, 3, 8, 9],\n",
    "         [2, 4, 9, 12],\n",
    "         [4, 7, 10, 13],\n",
    "         [6, 8, 11, 15]]\n",
    "array2 = []\n",
    "array3 = [['a', 'b', 'c'],\n",
    "          ['b', 'c', 'd']]\n",
    "array4 = [[62,63,64,65,66,67,68,69,70,71,72,73,74,75,76,77,78,79,80],[63,64,65,66,67,68,69,70,71,72,73,74,75,76,77,78,79,80,81],[64,65,66,67,68,69,70,71,72,73,74,75,76,77,78,79,80,81,82],[65,66,67,68,69,70,71,72,73,74,75,76,77,78,79,80,81,82,83],[66,67,68,69,70,71,72,73,74,75,76,77,78,79,80,81,82,83,84],[67,68,69,70,71,72,73,74,75,76,77,78,79,80,81,82,83,84,85]]"
   ]
  },
  {
   "cell_type": "code",
   "execution_count": 15,
   "metadata": {},
   "outputs": [
    {
     "name": "stdout",
     "output_type": "stream",
     "text": [
      "True\n",
      "True\n",
      "False\n",
      "False\n",
      "False\n",
      "True\n",
      "5\n"
     ]
    }
   ],
   "source": [
    "findtarget = Solution()\n",
    "print(findtarget.Find(array, 10))\n",
    "print(findtarget.Find(array, 3))\n",
    "print(findtarget.Find(array, 13.0))\n",
    "print(findtarget.Find(array, ''))\n",
    "print(findtarget.Find(array2, 10))\n",
    "print(findtarget.Find(array3, 'b'))\n",
    "print(findtarget.searchMatrix(array4, 81))"
   ]
  },
  {
   "cell_type": "code",
   "execution_count": null,
   "metadata": {},
   "outputs": [],
   "source": []
  }
 ],
 "metadata": {
  "kernelspec": {
   "display_name": "Python 3",
   "language": "python",
   "name": "python3"
  },
  "language_info": {
   "codemirror_mode": {
    "name": "ipython",
    "version": 3
   },
   "file_extension": ".py",
   "mimetype": "text/x-python",
   "name": "python",
   "nbconvert_exporter": "python",
   "pygments_lexer": "ipython3",
   "version": "3.6.5"
  }
 },
 "nbformat": 4,
 "nbformat_minor": 2
}
