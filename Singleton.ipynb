{
 "cells": [
  {
   "cell_type": "markdown",
   "metadata": {},
   "source": [
    "# 实现singleton模式"
   ]
  },
  {
   "cell_type": "markdown",
   "metadata": {},
   "source": [
    "设计一个类，只能产生该类的实例\n",
    "<br/>\n",
    "三个要点: 某个类只有一个实例; 必须自行创建这个实例; 必须自行向整个系统提供这个实例"
   ]
  },
  {
   "cell_type": "markdown",
   "metadata": {},
   "source": [
    "### 方法1: 实现__new__方法,然后将类的一个实例绑定到类变量_instance上\n",
    "\n",
    "如果cls._instance为None, 说明该类没有被实例化过, new一个该类的实例,并返回\n",
    "<br/>\n",
    "如果cls._instance不是None, 直接返回_instance"
   ]
  },
  {
   "cell_type": "code",
   "execution_count": 10,
   "metadata": {},
   "outputs": [],
   "source": [
    "class Singleton1(object):\n",
    "    def __new__(cls, *args, **kwargs):\n",
    "        if not hasattr(cls, '_instance'):\n",
    "            orig = super(Singleton1, cls)\n",
    "            cls._instance = orig.__new__(cls, *args, **kwargs)\n",
    "        return cls._instance "
   ]
  },
  {
   "cell_type": "code",
   "execution_count": 11,
   "metadata": {},
   "outputs": [],
   "source": [
    "class Myclass(Singleton1):\n",
    "    a = 1"
   ]
  },
  {
   "cell_type": "code",
   "execution_count": 12,
   "metadata": {},
   "outputs": [],
   "source": [
    "one = Myclass()\n",
    "two = Myclass()"
   ]
  },
  {
   "cell_type": "code",
   "execution_count": 13,
   "metadata": {},
   "outputs": [
    {
     "name": "stdout",
     "output_type": "stream",
     "text": [
      "2891862349416\n",
      "2891862349416\n",
      "True\n",
      "True\n"
     ]
    }
   ],
   "source": [
    "print(id(one))\n",
    "print(id(two))\n",
    "print(one == two)\n",
    "print(one is two)"
   ]
  },
  {
   "cell_type": "markdown",
   "metadata": {},
   "source": [
    "### 方法2：共享属性,所谓单例就是所有引用(实例、对象)拥有相同的的状态(属性)和行为(方法)\n",
    "\n",
    "同一个类的所有实例天然拥有相同的行为（方法）\n",
    "<br/>\n",
    "只需要保证一个类的所有实例具有相同的状态（属性）即可\n",
    "<br/>\n",
    "所有实例共享属性的最简单方法就是__dict__属性指向（引用）同一个字典（dict）"
   ]
  },
  {
   "cell_type": "code",
   "execution_count": 14,
   "metadata": {},
   "outputs": [],
   "source": [
    "class Borg(object):\n",
    "    _state = {}\n",
    "    def __new__(cls, *args, **kwargs):\n",
    "        ob = super(Borg, cls).__new__(cls, *args, **kwargs)\n",
    "        ob.__dict__ = cls._state\n",
    "        return ob"
   ]
  },
  {
   "cell_type": "code",
   "execution_count": 20,
   "metadata": {},
   "outputs": [],
   "source": [
    "class MyClass2(Borg):\n",
    "    a = 1\n",
    "one = MyClass2()\n",
    "two = MyClass2()"
   ]
  },
  {
   "cell_type": "code",
   "execution_count": 19,
   "metadata": {},
   "outputs": [
    {
     "name": "stdout",
     "output_type": "stream",
     "text": [
      "2891862407320\n",
      "2891862407264\n",
      "False\n",
      "False\n"
     ]
    }
   ],
   "source": [
    "print(id(one))\n",
    "print(id(two))\n",
    "print(one == two)\n",
    "print(one is two)"
   ]
  },
  {
   "cell_type": "code",
   "execution_count": 21,
   "metadata": {},
   "outputs": [
    {
     "name": "stdout",
     "output_type": "stream",
     "text": [
      "2891862337000\n",
      "2891862337000\n",
      "True\n",
      "True\n"
     ]
    }
   ],
   "source": [
    "print(id(one.__dict__))\n",
    "print(id(two.__dict__))\n",
    "print(one.__dict__ == two.__dict__)\n",
    "print(one.__dict__ is two.__dict__)"
   ]
  },
  {
   "cell_type": "markdown",
   "metadata": {},
   "source": [
    "### 方法3：装饰器版本decorator\n",
    "\n",
    "这是一种更pythonic，更elegant的方法\n",
    "<br/>\n",
    "单例类本身根本不知道自己是单例的，因为他自己的代码并不是单例的"
   ]
  },
  {
   "cell_type": "code",
   "execution_count": 22,
   "metadata": {},
   "outputs": [],
   "source": [
    "def singleton(cls, *args, **kwargs):\n",
    "    instances = {}\n",
    "    def getinstance():\n",
    "        if cls not in instances:\n",
    "            instances[cls] = cls(*args, **kwargs)\n",
    "        return instances[cls]\n",
    "    return getinstance"
   ]
  },
  {
   "cell_type": "code",
   "execution_count": 24,
   "metadata": {},
   "outputs": [],
   "source": [
    "@singleton\n",
    "class MyClass3(object):\n",
    "    a = 1\n",
    "    def __init__(self, x = 0):\n",
    "        self.x = x\n",
    "\n",
    "one = MyClass3()\n",
    "two = MyClass3()"
   ]
  },
  {
   "cell_type": "code",
   "execution_count": 25,
   "metadata": {},
   "outputs": [
    {
     "name": "stdout",
     "output_type": "stream",
     "text": [
      "2891862349864\n",
      "2891862349864\n",
      "True\n",
      "True\n"
     ]
    }
   ],
   "source": [
    "print(id(one)) \n",
    "print(id(two))\n",
    "print(one == two)    \n",
    "print(one is two)"
   ]
  },
  {
   "cell_type": "markdown",
   "metadata": {},
   "source": [
    "### 方法4：import方法\n",
    "\n",
    "python中的模块module在程序中只被加载一次，本身就是单例的\n",
    "<br/>\n",
    "可以直接写一个模块，将你需要的方法和属性，写在模块中当做函数和模块作用域的全局变量即可，根本不需要写类。"
   ]
  },
  {
   "cell_type": "code",
   "execution_count": null,
   "metadata": {},
   "outputs": [],
   "source": []
  }
 ],
 "metadata": {
  "kernelspec": {
   "display_name": "Python 3",
   "language": "python",
   "name": "python3"
  },
  "language_info": {
   "codemirror_mode": {
    "name": "ipython",
    "version": 3
   },
   "file_extension": ".py",
   "mimetype": "text/x-python",
   "name": "python",
   "nbconvert_exporter": "python",
   "pygments_lexer": "ipython3",
   "version": "3.6.5"
  }
 },
 "nbformat": 4,
 "nbformat_minor": 2
}
