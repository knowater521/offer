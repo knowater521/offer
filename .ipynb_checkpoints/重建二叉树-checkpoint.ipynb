{
 "cells": [
  {
   "cell_type": "markdown",
   "metadata": {},
   "source": [
    "# 重建二叉树"
   ]
  },
  {
   "cell_type": "markdown",
   "metadata": {},
   "source": [
    "输入某二叉树的前序遍历和中序遍历的结果，请重建出该二叉树。\n",
    "<br/>\n",
    "假设输入的前序遍历和中序遍历的结果中都不含重复的数字。\n",
    "<br/>\n",
    "例如输入前序遍历序列{1,2,4,7,3,5,6,8}和中序遍历序列{4,7,2,1,5,3,8,6}，则重建二叉树并返回。"
   ]
  },
  {
   "cell_type": "code",
   "execution_count": 1,
   "metadata": {},
   "outputs": [],
   "source": [
    "# -*- coding:utf-8 -*-\n",
    "class TreeNode:\n",
    "    def __init__(self, x):\n",
    "        self.val = x\n",
    "        self.left = None\n",
    "        self.right = None"
   ]
  },
  {
   "cell_type": "code",
   "execution_count": 2,
   "metadata": {},
   "outputs": [],
   "source": [
    "class Solution:\n",
    "    # 返回构造的TreeNode根节点\n",
    "    def reConstructBinaryTree(self, pre, tin):\n",
    "        if not pre and not tin:\n",
    "            return None\n",
    "        \n",
    "        root = TreeNode(pre[0])\n",
    "        \n",
    "        if set(pre) != set(tin):\n",
    "            return None\n",
    "        \n",
    "        i = tin.index(pre[0])\n",
    "        \n",
    "        root.left = self.reConstructBinaryTree(pre[1:i+1], tin[:i])\n",
    "        root.right = self.reConstructBinaryTree(pre[i+1:], tin[i+1:])\n",
    "        \n",
    "        return root "
   ]
  },
  {
   "cell_type": "code",
   "execution_count": 3,
   "metadata": {},
   "outputs": [],
   "source": [
    "pre = [1, 2, 3, 5, 6, 4]\n",
    "tin = [5, 3, 6, 2, 4, 1]\n",
    "test = Solution()\n",
    "newTree = test.reConstructBinaryTree(pre, tin)"
   ]
  },
  {
   "cell_type": "code",
   "execution_count": 4,
   "metadata": {},
   "outputs": [],
   "source": [
    "# 按层序遍历输出树中某一层的值\n",
    "def PrintNodeAtLevel(treeNode, level):\n",
    "    if not treeNode or level < 0:\n",
    "        return 0\n",
    "    if level == 0:\n",
    "        print(treeNode.val)\n",
    "        return 1\n",
    "    PrintNodeAtLevel(treeNode.left, level-1)\n",
    "    PrintNodeAtLevel(treeNode.right, level-1)"
   ]
  },
  {
   "cell_type": "code",
   "execution_count": 5,
   "metadata": {},
   "outputs": [],
   "source": [
    "# 已知树的深度按层遍历输出树的值\n",
    "def PrintNodeByLevel(treeNode, depth):\n",
    "    for level in range(depth):\n",
    "        PrintNodeAtLevel(treeNode, level)"
   ]
  },
  {
   "cell_type": "code",
   "execution_count": 13,
   "metadata": {},
   "outputs": [
    {
     "name": "stdout",
     "output_type": "stream",
     "text": [
      "1\n",
      "2\n",
      "3\n",
      "4\n",
      "5\n",
      "6\n"
     ]
    }
   ],
   "source": [
    "PrintNodeByLevel(newTree, 5)"
   ]
  },
  {
   "cell_type": "code",
   "execution_count": null,
   "metadata": {},
   "outputs": [],
   "source": []
  }
 ],
 "metadata": {
  "kernelspec": {
   "display_name": "Python 3",
   "language": "python",
   "name": "python3"
  },
  "language_info": {
   "codemirror_mode": {
    "name": "ipython",
    "version": 3
   },
   "file_extension": ".py",
   "mimetype": "text/x-python",
   "name": "python",
   "nbconvert_exporter": "python",
   "pygments_lexer": "ipython3",
   "version": "3.6.5"
  }
 },
 "nbformat": 4,
 "nbformat_minor": 2
}
